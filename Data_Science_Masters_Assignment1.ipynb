{
  "nbformat": 4,
  "nbformat_minor": 0,
  "metadata": {
    "colab": {
      "name": "Untitled1.ipynb",
      "provenance": [],
      "authorship_tag": "ABX9TyMJtr7AcaP2NkqIn2/UEJPE",
      "include_colab_link": true
    },
    "kernelspec": {
      "name": "python3",
      "display_name": "Python 3"
    },
    "language_info": {
      "name": "python"
    }
  },
  "cells": [
    {
      "cell_type": "markdown",
      "metadata": {
        "id": "view-in-github",
        "colab_type": "text"
      },
      "source": [
        "<a href=\"https://colab.research.google.com/github/Geethaprasanth/Data-Science-Masters/blob/main/Data_Science_Masters_Assignment1.ipynb\" target=\"_parent\"><img src=\"https://colab.research.google.com/assets/colab-badge.svg\" alt=\"Open In Colab\"/></a>"
      ]
    },
    {
      "cell_type": "code",
      "execution_count": null,
      "metadata": {
        "id": "7gQO1b0RBt7f"
      },
      "outputs": [],
      "source": [
        ""
      ]
    },
    {
      "cell_type": "markdown",
      "source": [
        "**A1 Q1**\n",
        "values: 'hello', -87.8, 6\n",
        "Expressions: *, -, /, +"
      ],
      "metadata": {
        "id": "Zp8mQXOxB8nL"
      }
    },
    {
      "cell_type": "code",
      "source": [
        ""
      ],
      "metadata": {
        "id": "YALnufQuDBv_"
      },
      "execution_count": null,
      "outputs": []
    },
    {
      "cell_type": "markdown",
      "source": [
        ""
      ],
      "metadata": {
        "id": "ji2nBSTyB7jY"
      }
    },
    {
      "cell_type": "markdown",
      "source": [
        "**A1Q2**\n",
        "String is a data type for alphanumeric chars.\n",
        "Varaible is the name of a space or memory allocated for certain value."
      ],
      "metadata": {
        "id": "HbopVN49CvBt"
      }
    },
    {
      "cell_type": "markdown",
      "source": [
        "**A1Q3** Data Types: int is for integer numbers which has positive,zero and negative numbers but not decimals. float is for real numbers which has positive, negative, zero, decimals. complex is for complex numbers. bool is for beelean values True/ False. String is for alphanumeric chars"
      ],
      "metadata": {
        "id": "tgV1IgkXDPA2"
      }
    },
    {
      "cell_type": "markdown",
      "source": [
        "**A1Q4:**An expression is made of varaibles or its values and mathematical or logical operators. Expressions compute the value as per the values, variable and the operators on them"
      ],
      "metadata": {
        "id": "tAX0_s34E1gf"
      }
    },
    {
      "cell_type": "code",
      "source": [
        ""
      ],
      "metadata": {
        "id": "4rmq7BO6Gh_2"
      },
      "execution_count": null,
      "outputs": []
    },
    {
      "cell_type": "markdown",
      "source": [
        ""
      ],
      "metadata": {
        "id": "lNJvpJPZGjLW"
      }
    },
    {
      "cell_type": "markdown",
      "source": [
        "**A1Q5:** Assignment statements assign the value to the varaible. There is no computation. An Expression computes the value as per the varaibles, values, operators in it"
      ],
      "metadata": {
        "id": "bxaEnCYOGjZ7"
      }
    },
    {
      "cell_type": "markdown",
      "source": [
        "A1Q6: bacon = 22. Value is incremented but not asigned to bacon"
      ],
      "metadata": {
        "id": "QfTVe_iBHDfa"
      }
    },
    {
      "cell_type": "markdown",
      "source": [
        "**A1Q7:** 'spam'+'spamspam' and 'spam'*3 both give the same value. Repeated addition is same as multiplication"
      ],
      "metadata": {
        "id": "dXx_EwhaH98I"
      }
    },
    {
      "cell_type": "markdown",
      "source": [
        "**A1Q8:** Only int or float value cannot be varaible name. An alphabetical or alphanumeric can be a varaible name. Ex: if we try to give 100 = 10, we are trying to assign the value 10 to the value 100 which doesnot make sense. If we give A100 = 10, we are assgning 10 to the varaible A100"
      ],
      "metadata": {
        "id": "AHnW859eIME7"
      }
    },
    {
      "cell_type": "markdown",
      "source": [
        ""
      ],
      "metadata": {
        "id": "Ax8tz0y9I3NC"
      }
    },
    {
      "cell_type": "code",
      "source": [
        "#A1Q9: int(), float(), str(). Strong casting\n",
        "a=10\n",
        "int_a = int(a)\n",
        "float_a = float(a)\n",
        "string_a = str(a)\n",
        "print(int_a, float_a, string_a)"
      ],
      "metadata": {
        "colab": {
          "base_uri": "https://localhost:8080/"
        },
        "id": "zodPs0j8JGR_",
        "outputId": "b35924cb-2430-4e84-f1b4-bd3d9b9366b4"
      },
      "execution_count": 6,
      "outputs": [
        {
          "output_type": "stream",
          "name": "stdout",
          "text": [
            "10 10.0 10\n"
          ]
        }
      ]
    },
    {
      "cell_type": "markdown",
      "source": [
        "**A1Q10:** The default type for 99 is int. in ('I have eaten' + 99 + 'burritos') 99 should be string as only strings can be cancatenated to strings.\n"
      ],
      "metadata": {
        "id": "KhPlb6h0Km9N"
      }
    },
    {
      "cell_type": "markdown",
      "source": [
        ""
      ],
      "metadata": {
        "id": "0X35FD4XKkny"
      }
    },
    {
      "cell_type": "code",
      "source": [
        "#A1Q10:\n",
        "'I have eaten' + '99' + 'burritos'"
      ],
      "metadata": {
        "colab": {
          "base_uri": "https://localhost:8080/",
          "height": 35
        },
        "id": "bXYAJrg6KVYE",
        "outputId": "bc707e39-f477-43cb-ee09-2ac78553adcd"
      },
      "execution_count": 8,
      "outputs": [
        {
          "output_type": "execute_result",
          "data": {
            "application/vnd.google.colaboratory.intrinsic+json": {
              "type": "string"
            },
            "text/plain": [
              "'I have eaten99burritos'"
            ]
          },
          "metadata": {},
          "execution_count": 8
        }
      ]
    },
    {
      "cell_type": "code",
      "source": [
        ""
      ],
      "metadata": {
        "id": "FPcD0knGJ1qZ"
      },
      "execution_count": null,
      "outputs": []
    }
  ]
}