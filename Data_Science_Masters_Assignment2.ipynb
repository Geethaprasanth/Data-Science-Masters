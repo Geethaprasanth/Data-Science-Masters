{
  "nbformat": 4,
  "nbformat_minor": 0,
  "metadata": {
    "colab": {
      "name": "Data_Science_Masters_Assignment2.ipynb",
      "provenance": [],
      "collapsed_sections": [],
      "authorship_tag": "ABX9TyMjeGB2uAODWT+PtG5mKy8I",
      "include_colab_link": true
    },
    "kernelspec": {
      "name": "python3",
      "display_name": "Python 3"
    },
    "language_info": {
      "name": "python"
    }
  },
  "cells": [
    {
      "cell_type": "markdown",
      "metadata": {
        "id": "view-in-github",
        "colab_type": "text"
      },
      "source": [
        "<a href=\"https://colab.research.google.com/github/Geethaprasanth/Data-Science-Masters/blob/main/Data_Science_Masters_Assignment2.ipynb\" target=\"_parent\"><img src=\"https://colab.research.google.com/assets/colab-badge.svg\" alt=\"Open In Colab\"/></a>"
      ]
    },
    {
      "cell_type": "markdown",
      "source": [
        "Data Science Masters: Assignment2"
      ],
      "metadata": {
        "id": "sWQpzipNiBDh"
      }
    },
    {
      "cell_type": "markdown",
      "source": [
        "**A2Q1:** True, False (write them as a title, first letter in caps)"
      ],
      "metadata": {
        "id": "kgMhL1kNiHiY"
      }
    },
    {
      "cell_type": "markdown",
      "source": [
        "**A2Q2:** AND, OR, NOT"
      ],
      "metadata": {
        "id": "bQNMZAycj0Yp"
      }
    },
    {
      "cell_type": "markdown",
      "source": [
        "**A2Q3:**\n",
        "**AND:**\n",
        "A B **AANDB**\n",
        "T T **T**\n",
        "T F **F**\n",
        "F T **F**\n",
        "F F **F**. \n",
        "**OR:**\n",
        "A B **AORB**\n",
        "T T **T**\n",
        "T F **T**\n",
        "F T **T**\n",
        "F F **F**.\n",
        "A **NOTA**\n",
        "T **F**\n",
        "F **T**\n",
        "\n"
      ],
      "metadata": {
        "id": "B-GkbfHlj6NQ"
      }
    },
    {
      "cell_type": "markdown",
      "source": [
        "**A2Q4:**\n",
        "(5 > 4) and (3 == 5) -- **False**.\n",
        "not(5>4) -- **False**.\n",
        "(5 > 4) or (3 == 5) -- **True**.\n",
        "not ((5 > 4) or (3 == 5)) -- **False**.\n",
        "(True and True) and (True == False) -- **False**.\n",
        "(not False) or (not True) -- **True**.\n"
      ],
      "metadata": {
        "id": "OsHwqgR1mTIh"
      }
    },
    {
      "cell_type": "markdown",
      "source": [
        "**A2Q5:** 1. Equals to **==** 2. Not Equals to **!=** 3. Greaterthan **>** 4. Lessthan **<** 5. Greaterthan or equals to **>=** 6. Lessthan or equals to **<=**\n",
        "\n"
      ],
      "metadata": {
        "id": "unpcTzmbr0xj"
      }
    },
    {
      "cell_type": "markdown",
      "source": [
        "**A2Q6:** Assignement operator should have 1 equals to symbol. Equals to operator should have 2 equals to operators"
      ],
      "metadata": {
        "id": "4-foDBU2yPhb"
      }
    },
    {
      "cell_type": "code",
      "source": [
        "#A2Q6\n",
        "# Assigning 25*5 to variable A\n",
        "A = 25*5\n",
        "B = 125\n",
        "#verifying if A equals to B\n",
        "bool(A==B)"
      ],
      "metadata": {
        "colab": {
          "base_uri": "https://localhost:8080/"
        },
        "id": "0nI62l8hyks_",
        "outputId": "82ac9c4e-075d-4b1e-f907-22f1c2360162"
      },
      "execution_count": 7,
      "outputs": [
        {
          "output_type": "execute_result",
          "data": {
            "text/plain": [
              "True"
            ]
          },
          "metadata": {},
          "execution_count": 7
        }
      ]
    },
    {
      "cell_type": "code",
      "source": [
        "#A2Q7: Three blocks of code indented as per the conditional statement\n",
        "spam = 0\n",
        "if spam == 10:\n",
        "  print('eggs')\n",
        "if spam > 5:\n",
        "  print('bacon')\n",
        "else:\n",
        "  print('ham')\n",
        "  print('spam')\n",
        "  print('spam')"
      ],
      "metadata": {
        "colab": {
          "base_uri": "https://localhost:8080/"
        },
        "id": "ha95EK43y7bw",
        "outputId": "8a4afad6-50c6-41b9-d888-452120825c47"
      },
      "execution_count": 14,
      "outputs": [
        {
          "output_type": "stream",
          "name": "stdout",
          "text": [
            "ham\n",
            "spam\n",
            "spam\n"
          ]
        }
      ]
    },
    {
      "cell_type": "code",
      "source": [
        "#A2Q8\n",
        "spam = 0\n",
        "if spam == 1:\n",
        "  print('Hello')\n",
        "elif spam ==2:\n",
        "  print('Howdy')\n",
        "else:\n",
        "  print('Greetings')"
      ],
      "metadata": {
        "colab": {
          "base_uri": "https://localhost:8080/"
        },
        "id": "nlf7wopvzoQw",
        "outputId": "59c0e17f-fce4-4b83-eeba-d9b6e3f2fb15"
      },
      "execution_count": 16,
      "outputs": [
        {
          "output_type": "stream",
          "name": "stdout",
          "text": [
            "Greetings\n"
          ]
        }
      ]
    },
    {
      "cell_type": "markdown",
      "source": [
        "**A2Q9:** Ctrl +C"
      ],
      "metadata": {
        "id": "RHxSuvJ_Ec_R"
      }
    },
    {
      "cell_type": "markdown",
      "source": [
        "**A2Q10:** Break takes the control out of the loop ans the loop is terminated. Continue takes the control to the starting of the loop and the commands after continue in the loop are not executed. The iteration of the loop is terminated for continue. Syntax: break, continue"
      ],
      "metadata": {
        "id": "U4Pyp2cQCs0M"
      }
    },
    {
      "cell_type": "markdown",
      "source": [
        "**A2Q11:** No difference between range(10), range(0,10), range(0,10,1). The default values are explicitly mentioned in the last one"
      ],
      "metadata": {
        "id": "IAhnFJdr-0fw"
      }
    },
    {
      "cell_type": "code",
      "source": [
        "#A2Q12:\n",
        "for i in range(1,11):\n",
        "  print(i)"
      ],
      "metadata": {
        "colab": {
          "base_uri": "https://localhost:8080/"
        },
        "id": "VM_sJ2Sj-ndy",
        "outputId": "33aa136c-5070-47fd-be84-aa1c3b72f8cd"
      },
      "execution_count": 20,
      "outputs": [
        {
          "output_type": "stream",
          "name": "stdout",
          "text": [
            "1\n",
            "2\n",
            "3\n",
            "4\n",
            "5\n",
            "6\n",
            "7\n",
            "8\n",
            "9\n",
            "10\n"
          ]
        }
      ]
    },
    {
      "cell_type": "code",
      "source": [
        "#A2Q12:\n",
        "a=1\n",
        "while 0<a<11:\n",
        "  print(a)\n",
        "  a+=1"
      ],
      "metadata": {
        "colab": {
          "base_uri": "https://localhost:8080/"
        },
        "id": "c_hm6_sBAElF",
        "outputId": "ee6a1c92-635d-4751-d3c2-62c9fcc7fb2a"
      },
      "execution_count": 24,
      "outputs": [
        {
          "output_type": "stream",
          "name": "stdout",
          "text": [
            "1\n",
            "2\n",
            "3\n",
            "4\n",
            "5\n",
            "6\n",
            "7\n",
            "8\n",
            "9\n",
            "10\n"
          ]
        }
      ]
    },
    {
      "cell_type": "markdown",
      "source": [
        "**A2Q13:** spam.bacon()"
      ],
      "metadata": {
        "id": "H-iJDz_qAopM"
      }
    }
  ]
}