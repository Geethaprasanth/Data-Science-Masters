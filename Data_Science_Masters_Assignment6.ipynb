{
  "nbformat": 4,
  "nbformat_minor": 0,
  "metadata": {
    "colab": {
      "name": "Data Science Masters_Assignment6.ipynb",
      "provenance": [],
      "collapsed_sections": [],
      "authorship_tag": "ABX9TyPkJN7B8Abf6CC2PfAC/mTQ",
      "include_colab_link": true
    },
    "kernelspec": {
      "name": "python3",
      "display_name": "Python 3"
    },
    "language_info": {
      "name": "python"
    }
  },
  "cells": [
    {
      "cell_type": "markdown",
      "metadata": {
        "id": "view-in-github",
        "colab_type": "text"
      },
      "source": [
        "<a href=\"https://colab.research.google.com/github/Geethaprasanth/Data-Science-Masters/blob/main/Data_Science_Masters_Assignment6.ipynb\" target=\"_parent\"><img src=\"https://colab.research.google.com/assets/colab-badge.svg\" alt=\"Open In Colab\"/></a>"
      ]
    },
    {
      "cell_type": "markdown",
      "source": [
        "**A6Q1:** Escape chars allow us to use illegal chars in a string like single quotes, double quotes, tabspace etc. Backslash can be used before the char to make it usable inside the string."
      ],
      "metadata": {
        "id": "KLNPEBTGH0IT"
      }
    },
    {
      "cell_type": "markdown",
      "source": [
        "**A6Q2:** Escape chars \\n and \\t can be used for moving the control to next line, introducing tabspace in between the string"
      ],
      "metadata": {
        "id": "Ai-d8xriJABt"
      }
    },
    {
      "cell_type": "code",
      "source": [
        "#A6Q2:\n",
        "textt = ('Hello\\tWorld!')\n",
        "textn = ('Hi\\nWorld!')\n",
        "print(textt)\n",
        "print(textn)"
      ],
      "metadata": {
        "colab": {
          "base_uri": "https://localhost:8080/"
        },
        "id": "h0K13bweESF7",
        "outputId": "e3ca6724-8905-4bda-d93c-8b6a40547056"
      },
      "execution_count": null,
      "outputs": [
        {
          "output_type": "stream",
          "name": "stdout",
          "text": [
            "Hello\tWorld!\n",
            "Hi\n",
            "World!\n"
          ]
        }
      ]
    },
    {
      "cell_type": "markdown",
      "source": [
        "**A6Q3:** Double backslash can be used in a string to include backslash"
      ],
      "metadata": {
        "id": "8XL5eEjHMM4P"
      }
    },
    {
      "cell_type": "markdown",
      "source": [
        "**A6Q4:** As we are using  single quote inside double quotes in \"Howl's Moving Castle\" there isn't an issue with escaping. If we use double quotes inside double quotes or single quoptes inside single quotes, its an issue"
      ],
      "metadata": {
        "id": "TnR-P0ZSO63E"
      }
    },
    {
      "cell_type": "code",
      "source": [
        "#A6Q4\n",
        "print(\"Howl's moving castle1\")\n",
        "print('Howl\"s moving castle2')"
      ],
      "metadata": {
        "colab": {
          "base_uri": "https://localhost:8080/"
        },
        "id": "il8VZOJXEgA0",
        "outputId": "762909a5-2ee9-460c-d3cc-6b2401519434"
      },
      "execution_count": null,
      "outputs": [
        {
          "output_type": "stream",
          "name": "stdout",
          "text": [
            "Howl's moving castle1\n",
            "Howl\"s moving castle2\n"
          ]
        }
      ]
    },
    {
      "cell_type": "code",
      "source": [
        "#A6Q4\n",
        "print(\"Howl\"s moving castle\")"
      ],
      "metadata": {
        "colab": {
          "base_uri": "https://localhost:8080/",
          "height": 131
        },
        "id": "-Zsj02xBLImb",
        "outputId": "9566a7a3-9e55-4165-b7ff-c15aea168cee"
      },
      "execution_count": null,
      "outputs": [
        {
          "output_type": "error",
          "ename": "SyntaxError",
          "evalue": "ignored",
          "traceback": [
            "\u001b[0;36m  File \u001b[0;32m\"<ipython-input-36-011d999a4396>\"\u001b[0;36m, line \u001b[0;32m2\u001b[0m\n\u001b[0;31m    print(\"Howl\"s moving castle\")\u001b[0m\n\u001b[0m                ^\u001b[0m\n\u001b[0;31mSyntaxError\u001b[0m\u001b[0;31m:\u001b[0m invalid syntax\n"
          ]
        }
      ]
    },
    {
      "cell_type": "code",
      "source": [
        "#A6Q4\n",
        "print('Howl's moving castle')"
      ],
      "metadata": {
        "colab": {
          "base_uri": "https://localhost:8080/",
          "height": 131
        },
        "id": "EEk2vVGFP6vV",
        "outputId": "1b492a2b-d28e-4c09-9232-dd4f016cdea0"
      },
      "execution_count": null,
      "outputs": [
        {
          "output_type": "error",
          "ename": "SyntaxError",
          "evalue": "ignored",
          "traceback": [
            "\u001b[0;36m  File \u001b[0;32m\"<ipython-input-37-7d6040f1b3a3>\"\u001b[0;36m, line \u001b[0;32m2\u001b[0m\n\u001b[0;31m    print('Howl's moving castle')\u001b[0m\n\u001b[0m                ^\u001b[0m\n\u001b[0;31mSyntaxError\u001b[0m\u001b[0;31m:\u001b[0m invalid syntax\n"
          ]
        }
      ]
    },
    {
      "cell_type": "code",
      "source": [
        "#A6Q6\n",
        "print('Hello, World!'[1]) #string element of index 1\n",
        "print('Hello, World!'[0:5]) #elements of indexes 0 to 4\n",
        "print('Hello, World!'[:5]) #elements of index upto 4, same as above\n",
        "print('Hello, World!'[3:]) #elements of index from 3"
      ],
      "metadata": {
        "colab": {
          "base_uri": "https://localhost:8080/"
        },
        "id": "HmogY_6iQBY-",
        "outputId": "bf714c5f-4f33-4071-aa5f-1ac44df0728d"
      },
      "execution_count": null,
      "outputs": [
        {
          "output_type": "stream",
          "name": "stdout",
          "text": [
            "e\n",
            "Hello\n",
            "Hello\n",
            "lo, World!\n"
          ]
        }
      ]
    },
    {
      "cell_type": "code",
      "source": [
        "#A6Q7\n",
        "print('Hello'.upper()) #printing Hello in upper case characters\n",
        "print('Hello'.upper().isupper()) #making Hello into uppercase and isupper checks if the value is in uppercase characters\n",
        "print('Hello'.upper().lower()) #making Hello into uppercase chars and then making it into lowercase chars"
      ],
      "metadata": {
        "id": "VfRX1JyzQ3Gb",
        "colab": {
          "base_uri": "https://localhost:8080/"
        },
        "outputId": "68099e0f-c3a5-425a-cb90-77b698f8bfd1"
      },
      "execution_count": null,
      "outputs": [
        {
          "output_type": "stream",
          "name": "stdout",
          "text": [
            "HELLO\n",
            "True\n",
            "hello\n"
          ]
        }
      ]
    },
    {
      "cell_type": "code",
      "source": [
        "#A6Q8\n",
        "#print('Remember, remember the fifth of july.'.split())\n",
        "text = 'to be joined'\n",
        "#'-'.join(text.split())\n",
        "'-'.join('There can only one.'split())"
      ],
      "metadata": {
        "colab": {
          "base_uri": "https://localhost:8080/",
          "height": 35
        },
        "id": "g5W6odvlsqsQ",
        "outputId": "2bb1b945-8829-4f55-d34b-07ad326bdcab"
      },
      "execution_count": 41,
      "outputs": [
        {
          "output_type": "execute_result",
          "data": {
            "text/plain": [
              "'T-h-e-r-e- -c-a-n- -o-n-l-y- -o-n-e-.'"
            ],
            "application/vnd.google.colaboratory.intrinsic+json": {
              "type": "string"
            }
          },
          "metadata": {},
          "execution_count": 41
        }
      ]
    },
    {
      "cell_type": "markdown",
      "source": [
        "**#A6Q8** 'Remember, remember the fifth of july.'.split() -- iterates through the string.Splits the string at every whitespace and creates a list. '-'.join('There can only one.'.split()) -- join() iterates through the string and intserts the string args passed in the iterable string. split is making the string iterable at whitespace making it into diff elements of a list."
      ],
      "metadata": {
        "id": "Z6L58w95xBUw"
      }
    },
    {
      "cell_type": "markdown",
      "source": [
        "**#A6Q9:** right justifying - rjust() left justifying - ljust() center - center()"
      ],
      "metadata": {
        "id": "RRGSWaubltO2"
      }
    },
    {
      "cell_type": "code",
      "source": [
        "#A6Q9\n",
        "text = ('Athens')\n",
        "print(text.rjust(20))\n",
        "print(text.rjust(20,'2'))\n",
        "print(text.ljust(20))\n",
        "print(text.ljust(20,'3'))\n",
        "print(text.center(20))\n",
        "print(text.center(20,'k'))\n"
      ],
      "metadata": {
        "id": "e2ab6nB9c54P",
        "colab": {
          "base_uri": "https://localhost:8080/"
        },
        "outputId": "d0e1b38c-4b35-4531-e3fd-7ef2f90b96fb"
      },
      "execution_count": 29,
      "outputs": [
        {
          "output_type": "stream",
          "name": "stdout",
          "text": [
            "              Athens\n",
            "22222222222222Athens\n",
            "Athens              \n",
            "Athens33333333333333\n",
            "       Athens       \n",
            "kkkkkkkAthenskkkkkkk\n"
          ]
        }
      ]
    },
    {
      "cell_type": "code",
      "source": [
        "#A6Q10: strip(), lstrip(), rstrip()\n",
        "text = (\"    Stripping    string    \")\n",
        "print(text.strip())\n",
        "print(text.rstrip())\n",
        "print(text.lstrip())"
      ],
      "metadata": {
        "colab": {
          "base_uri": "https://localhost:8080/"
        },
        "id": "5sIFwYysinBK",
        "outputId": "dc51495b-fc6e-447a-943d-2187be32a92e"
      },
      "execution_count": 33,
      "outputs": [
        {
          "output_type": "stream",
          "name": "stdout",
          "text": [
            "Stripping    string\n",
            "    Stripping    string\n",
            "Stripping    string    \n"
          ]
        }
      ]
    },
    {
      "cell_type": "code",
      "source": [
        ""
      ],
      "metadata": {
        "id": "9Vc5p14ppUlq"
      },
      "execution_count": null,
      "outputs": []
    }
  ]
}